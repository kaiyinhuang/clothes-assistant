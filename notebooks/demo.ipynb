# 在Jupyter Notebook中运行

# 1. 安装依赖
!pip install -q transformers datasets torch accelerate

# 2. 加载数据集
from datasets import load_dataset
dataset = load_dataset("dvllasuero/clothes-assistant")
print("示例数据:", dataset["train"][0]["messages"])

# 3. 测试推理
from src.inference import generate_response
response = generate_response("Recommend a summer dress for a party.")
print("Assistant:", response)
